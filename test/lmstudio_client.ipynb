{
 "cells": [
  {
   "cell_type": "code",
   "execution_count": 27,
   "metadata": {},
   "outputs": [],
   "source": [
    "# Example: reuse your existing OpenAI setup\n",
    "from openai import OpenAI\n",
    "\n",
    "# Point to the local server\n",
    "client = OpenAI(base_url=\"http://localhost:1234/v1\", api_key=\"lm-studio\")"
   ]
  },
  {
   "cell_type": "code",
   "execution_count": 46,
   "metadata": {},
   "outputs": [],
   "source": [
    "from pathlib import Path\n",
    "\n",
    "roles = [\"sys\",\"human\"]\n",
    "levels = [\"hard\", \"medium\", \"easy\"]\n",
    "question_format_template   = Path(\"question_format_template.txt\").read_text().strip()\n",
    "\n",
    "prompt = {}\n",
    "for role in roles:\n",
    "    prompt[role] = {}\n",
    "    for level in levels:\n",
    "        prompt_text = Path(role + \"_template_\"+level+\".txt\").read_text().strip()\n",
    "        if (role == \"human\"):\n",
    "            prompt_text += question_format_template\n",
    "        prompt[role][level] = prompt_text\n"
   ]
  },
  {
   "cell_type": "code",
   "execution_count": 57,
   "metadata": {},
   "outputs": [],
   "source": [
    "import json\n",
    "def parse_question(chat_response):\n",
    "    response = chat_response.replace(\"\\n\",\"\")\n",
    "    json_string = response.split(\"{\")[1].split(\"}\")[0]\n",
    "    question = json.loads(\"{\" + json_string + \"}\")\n",
    "    return question"
   ]
  },
  {
   "cell_type": "code",
   "execution_count": 58,
   "metadata": {},
   "outputs": [],
   "source": [
    "def create_question(context, level=\"hard\"):\n",
    "  completion = client.chat.completions.create(\n",
    "    model=\"LM Studio Community/Meta-Llama-3-8B-Instruct-GGUF\",\n",
    "    messages=[\n",
    "      {\"role\": \"system\", \"content\": prompt[\"sys\"][level]},\n",
    "      {\"role\": \"user\", \"content\": prompt[\"human\"][level].replace('{context}',context)}\n",
    "    ],\n",
    "    temperature=0.1,\n",
    "  )\n",
    "\n",
    "  response = completion.choices[0].message\n",
    "  print(response)\n",
    "  return parse_question(response.content)\n"
   ]
  },
  {
   "cell_type": "code",
   "execution_count": 60,
   "metadata": {},
   "outputs": [
    {
     "name": "stdout",
     "output_type": "stream",
     "text": [
      "making a hard question ..\n",
      "ChatCompletionMessage(content='{\\n  \"PREGUNTA\": \"¿Cómo se financia la Fundación Wikimedia?\",\\n  \"OPCION1\": \"A través de publicidad en línea\",\\n  \"OPCION2\": \"Vendiendo contenidos a empresas\",\\n  \"OPCION3\": \"Recibiendo donaciones de particulares y organizaciones\",\\n  \"OPCION4\": \"Fundada por una empresa tecnológica\",\\n  \"EVIDENCIA\": \"La Fundación Wikimedia se financia fundamentalmente en donaciones, según el texto.\"\\n}', role='assistant', function_call=None, tool_calls=None)\n",
      "{\n",
      "  \"PREGUNTA\": \"¿Cómo se financia la Fundación Wikimedia?\",\n",
      "  \"OPCION1\": \"A través de publicidad en línea\",\n",
      "  \"OPCION2\": \"Vendiendo contenidos a empresas\",\n",
      "  \"OPCION3\": \"Recibiendo donaciones de particulares y organizaciones\",\n",
      "  \"OPCION4\": \"Fundada por una empresa tecnológica\",\n",
      "  \"EVIDENCIA\": \"La Fundación Wikimedia se financia fundamentalmente en donaciones, según el texto.\"\n",
      "}\n",
      "making a medium question ..\n",
      "ChatCompletionMessage(content='A continuación, te presento la pregunta y las opciones generadas a partir del texto:\\n\\n```\\n{\\n  \"PREGUNTA\": \"¿Quién administra los servidores de Wikipedia en español?\",\\n  \"OPCION1\": \"La empresa Google\",\\n  \"OPCION2\": \"El gobierno de España\",\\n  \"OPCION3\": \"La Fundación Microsoft\",\\n  \"OPCION4\": \"La Fundación Wikimedia\",\\n  \"EVIDENCIA\": \"Según el texto, la Fundación Wikimedia es la organización sin ánimo de lucro que administra los servidores y se financia fundamentalmente en donaciones.\"\\n}\\n```\\n\\nEn esta pregunta, solo la opción 4 es correcta, ya que según el texto, la Fundación Wikimedia es la responsable de administrar los servidores de Wikipedia en español. Las opciones 1, 2 y 3 son incorrectas porque no se mencionan en el texto como responsables de la administración de los servidores.', role='assistant', function_call=None, tool_calls=None)\n",
      "{\n",
      "  \"PREGUNTA\": \"¿Quién administra los servidores de Wikipedia en español?\",\n",
      "  \"OPCION1\": \"La empresa Google\",\n",
      "  \"OPCION2\": \"El gobierno de España\",\n",
      "  \"OPCION3\": \"La Fundación Microsoft\",\n",
      "  \"OPCION4\": \"La Fundación Wikimedia\",\n",
      "  \"EVIDENCIA\": \"Según el texto, la Fundación Wikimedia es la organización sin ánimo de lucro que administra los servidores y se financia fundamentalmente en donaciones.\"\n",
      "}\n",
      "making a easy question ..\n",
      "ChatCompletionMessage(content='{\\n  \"PREGUNTA\": \"¿Qué tipo de licencia utiliza Wikipedia en español?\",\\n  \"OPCION1\": \"Licencia Creative Commons\",\\n  \"OPCION2\": \"Licencia GNU\",\\n  \"OPCION3\": \"Licencia Apache\",\\n  \"OPCION4\": \"CC BY-SA 4.0 y GFDL\",\\n  \"EVIDENCIA\": \"Según el texto, Wikipedia en español utiliza las licencias CC BY-SA 4.0 y GFDL.\"\\n}', role='assistant', function_call=None, tool_calls=None)\n",
      "{\n",
      "  \"PREGUNTA\": \"¿Qué tipo de licencia utiliza Wikipedia en español?\",\n",
      "  \"OPCION1\": \"Licencia Creative Commons\",\n",
      "  \"OPCION2\": \"Licencia GNU\",\n",
      "  \"OPCION3\": \"Licencia Apache\",\n",
      "  \"OPCION4\": \"CC BY-SA 4.0 y GFDL\",\n",
      "  \"EVIDENCIA\": \"Según el texto, Wikipedia en español utiliza las licencias CC BY-SA 4.0 y GFDL.\"\n",
      "}\n"
     ]
    }
   ],
   "source": [
    "\n",
    "\n",
    "sample = context = \"La Wikipedia en español es la edición en español o castellano de Wikipedia. Al igual que las versiones existentes de Wikipedia en otros idiomas, es una enciclopedia de contenido libre, publicada en Internet bajo las licencias libres CC BY-SA 4.0 y GFDL. En la actualidad cuenta con 1 949 592 artículos, y es escrita por usuarios voluntarios, es decir, que cualquiera puede editar un artículo, corregirlo o ampliarlo. Los servidores son administrados por la Fundación Wikimedia, una organización sin ánimo de lucro cuya financiación se basa fundamentalmente en donaciones.\"\n",
    "levels = [\"hard\", \"medium\", \"easy\"] \n",
    "\n",
    "for level in levels:\n",
    "    print(\"making a \" + level + \" question ..\")\n",
    "    question = create_question(sample, level)\n",
    "    print(json.dumps(question,indent=2, ensure_ascii=False))\n"
   ]
  }
 ],
 "metadata": {
  "kernelspec": {
   "display_name": "venv-metal",
   "language": "python",
   "name": "python3"
  },
  "language_info": {
   "codemirror_mode": {
    "name": "ipython",
    "version": 3
   },
   "file_extension": ".py",
   "mimetype": "text/x-python",
   "name": "python",
   "nbconvert_exporter": "python",
   "pygments_lexer": "ipython3",
   "version": "3.9.16"
  }
 },
 "nbformat": 4,
 "nbformat_minor": 2
}
