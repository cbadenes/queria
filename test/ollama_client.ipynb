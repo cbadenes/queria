{
 "cells": [
  {
   "cell_type": "code",
   "execution_count": 1,
   "metadata": {},
   "outputs": [
    {
     "name": "stdout",
     "output_type": "stream",
     "text": [
      "Requirement already satisfied: ollama in /Users/cbadenes/venv-metal/lib/python3.9/site-packages (0.1.6)\n",
      "Requirement already satisfied: httpx<0.26.0,>=0.25.2 in /Users/cbadenes/venv-metal/lib/python3.9/site-packages (from ollama) (0.25.2)\n",
      "Requirement already satisfied: anyio in /Users/cbadenes/venv-metal/lib/python3.9/site-packages (from httpx<0.26.0,>=0.25.2->ollama) (4.2.0)\n",
      "Requirement already satisfied: certifi in /Users/cbadenes/venv-metal/lib/python3.9/site-packages (from httpx<0.26.0,>=0.25.2->ollama) (2023.5.7)\n",
      "Requirement already satisfied: httpcore==1.* in /Users/cbadenes/venv-metal/lib/python3.9/site-packages (from httpx<0.26.0,>=0.25.2->ollama) (1.0.2)\n",
      "Requirement already satisfied: idna in /Users/cbadenes/venv-metal/lib/python3.9/site-packages (from httpx<0.26.0,>=0.25.2->ollama) (3.4)\n",
      "Requirement already satisfied: sniffio in /Users/cbadenes/venv-metal/lib/python3.9/site-packages (from httpx<0.26.0,>=0.25.2->ollama) (1.3.0)\n",
      "Requirement already satisfied: h11<0.15,>=0.13 in /Users/cbadenes/venv-metal/lib/python3.9/site-packages (from httpcore==1.*->httpx<0.26.0,>=0.25.2->ollama) (0.14.0)\n",
      "Requirement already satisfied: exceptiongroup>=1.0.2 in /Users/cbadenes/venv-metal/lib/python3.9/site-packages (from anyio->httpx<0.26.0,>=0.25.2->ollama) (1.2.0)\n",
      "Requirement already satisfied: typing-extensions>=4.1 in /Users/cbadenes/venv-metal/lib/python3.9/site-packages (from anyio->httpx<0.26.0,>=0.25.2->ollama) (4.11.0)\n"
     ]
    }
   ],
   "source": [
    "!pip install ollama"
   ]
  },
  {
   "cell_type": "code",
   "execution_count": 93,
   "metadata": {},
   "outputs": [],
   "source": [
    "from pathlib import Path\n",
    "\n",
    "roles = [\"sys\",\"human\"]\n",
    "levels = [\"hard\", \"medium\", \"easy\"]\n",
    "question_format_template   = Path(\"question_format_template.txt\").read_text().strip()\n",
    "\n",
    "prompt = {}\n",
    "for role in roles:\n",
    "    prompt[role] = {}\n",
    "    for level in levels:\n",
    "        prompt_text = Path(role + \"_template_\"+level+\".txt\").read_text().strip()\n",
    "        if (role == \"human\"):\n",
    "            prompt_text += question_format_template\n",
    "        prompt[role][level] = prompt_text"
   ]
  },
  {
   "cell_type": "code",
   "execution_count": 94,
   "metadata": {},
   "outputs": [],
   "source": [
    "import json\n",
    "import requests\n",
    "\n",
    "def chat(server,role, message):\n",
    "    messages = [\n",
    "    {\n",
    "        'role': role,\n",
    "        'content': message,\n",
    "    },\n",
    "    ]\n",
    "    r = requests.post(\n",
    "        server + \"/api/chat\",\n",
    "        json={\"model\": \"llama3\",  \"messages\": messages, \"stream\": True},\n",
    "    )\n",
    "    r.raise_for_status()\n",
    "    output = \"\"\n",
    "\n",
    "    for line in r.iter_lines():\n",
    "        body = json.loads(line)\n",
    "        if \"error\" in body:\n",
    "            raise Exception(body[\"error\"])\n",
    "        if body.get(\"done\") is False:\n",
    "            response = body.get(\"message\", \"\")\n",
    "            content = response.get(\"content\", \"\")\n",
    "            output += content\n",
    "            # the response streams one token at a time, print that as we receive it\n",
    "            #print(content, end=\"\", flush=True)\n",
    "\n",
    "        if body.get(\"done\", False):\n",
    "            response[\"content\"] = output\n",
    "            return output"
   ]
  },
  {
   "cell_type": "code",
   "execution_count": 95,
   "metadata": {},
   "outputs": [],
   "source": [
    "import json\n",
    "def parse_question(chat_response):\n",
    "    response = chat_response.replace(\"\\n\",\"\")\n",
    "    json_string = response.split(\"{\")[1].split(\"}\")[0]\n",
    "    question = json.loads(\"{\" + json_string + \"}\")\n",
    "    return question"
   ]
  },
  {
   "cell_type": "code",
   "execution_count": 96,
   "metadata": {},
   "outputs": [],
   "source": [
    "def create_question(server,context, level):\n",
    "    chat(server,\"system\",prompt[\"sys\"][level])\n",
    "    response = chat(server,\"user\",prompt[\"human\"][level].replace('{context}',context))\n",
    "    return parse_question(response)"
   ]
  },
  {
   "cell_type": "code",
   "execution_count": 97,
   "metadata": {},
   "outputs": [
    {
     "name": "stdout",
     "output_type": "stream",
     "text": [
      "making a hard question ..\n",
      "{\n",
      "  \"PREGUNTA\": \"¿Cuál es el nombre de la licencia bajo la que se publican los contenidos de Wikipedia en español?\",\n",
      "  \"OPCION1\": \"CC BY-NC-SA\",\n",
      "  \"OPCION2\": \"GFDL-SAS\",\n",
      "  \"OPCION3\": \"GPL v3.0\",\n",
      "  \"OPCION4\": \"CC BY-SA 4.0 y GFDL\",\n",
      "  \"EVIDENCIA\": \"La licencia CC BY-SA 4.0 y GFDL se especifica en el texto como las que rigen la publicación de los contenidos de Wikipedia en español.\"\n",
      "}\n",
      "making a medium question ..\n",
      "{\n",
      "  \"PREGUNTA\": \"¿Quién financia el trabajo en Wikipedia?\",\n",
      "  \"OPCION1\": \"La Fundación Wikimedia\",\n",
      "  \"OPCION2\": \"Los usuarios que editan\",\n",
      "  \"OPCION3\": \"El gobierno español\",\n",
      "  \"OPCION4\": \"Fundación Wikimedia y donaciones de usuarios\",\n",
      "  \"EVIDENCIA\": \"Según el texto, la financiación de la Fundación Wikimedia se basa fundamentalmente en donaciones.\"\n",
      "}\n",
      "making a easy question ..\n",
      "{\n",
      "  \"PREGUNTA\": \"Cuántos artículos tiene la Wikipedia en español?\",\n",
      "  \"OPCION1\": \"1000\",\n",
      "  \"OPCION2\": \"500\",\n",
      "  \"OPCION3\": \"2000\",\n",
      "  \"OPCION4\": \"1949 592\",\n",
      "  \"EVIDENCIA\": \"La respuesta correcta se encuentra en el texto, que indica que la Wikipedia en español cuenta con 1 949 592 artículos.\"\n",
      "}\n"
     ]
    }
   ],
   "source": [
    "import json\n",
    "sample = context = \"La Wikipedia en español es la edición en español o castellano de Wikipedia. Al igual que las versiones existentes de Wikipedia en otros idiomas, es una enciclopedia de contenido libre, publicada en Internet bajo las licencias libres CC BY-SA 4.0 y GFDL. En la actualidad cuenta con 1 949 592 artículos, y es escrita por usuarios voluntarios, es decir, que cualquiera puede editar un artículo, corregirlo o ampliarlo. Los servidores son administrados por la Fundación Wikimedia, una organización sin ánimo de lucro cuya financiación se basa fundamentalmente en donaciones.\"\n",
    "levels = [\"hard\", \"medium\", \"easy\"] \n",
    "\n",
    "\n",
    "server = \"http://0.0.0.0:11434\" #local\n",
    "#server = \"https://librairy.linkeddata.es/ollama\" #remote\n",
    "\n",
    "for level in levels:\n",
    "    print(\"making a \" + level + \" question ..\")\n",
    "    question = create_question(server,sample, level)\n",
    "    print(json.dumps(question,indent=2, ensure_ascii=False))\n"
   ]
  }
 ],
 "metadata": {
  "kernelspec": {
   "display_name": "venv-metal",
   "language": "python",
   "name": "python3"
  },
  "language_info": {
   "codemirror_mode": {
    "name": "ipython",
    "version": 3
   },
   "file_extension": ".py",
   "mimetype": "text/x-python",
   "name": "python",
   "nbconvert_exporter": "python",
   "pygments_lexer": "ipython3",
   "version": "3.9.16"
  }
 },
 "nbformat": 4,
 "nbformat_minor": 2
}
